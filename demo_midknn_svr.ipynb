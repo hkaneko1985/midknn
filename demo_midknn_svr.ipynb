{
 "cells": [
  {
   "cell_type": "markdown",
   "metadata": {},
   "source": [
    "# Demonstration of SVR hyperparameter optimization using the midpoints between k-nearest-neighbor data points of a training dataset (midknn) as a validation dataset in regression"
   ]
  },
  {
   "cell_type": "markdown",
   "metadata": {},
   "source": [
    "Hiromasa Kaneko"
   ]
  },
  {
   "cell_type": "code",
   "execution_count": 1,
   "metadata": {
    "collapsed": true
   },
   "outputs": [],
   "source": [
    "import numpy as np\n",
    "from sklearn import svm, datasets\n",
    "from sklearn.model_selection import train_test_split\n",
    "import matplotlib.pyplot as plt\n",
    "import matplotlib.figure as figure\n",
    "import time\n",
    "import midknn"
   ]
  },
  {
   "cell_type": "code",
   "execution_count": 2,
   "metadata": {
    "collapsed": true
   },
   "outputs": [],
   "source": [
    "# Settings\n",
    "k = 10 # k in k-nearest-neighbor algorithm\n",
    "svrcs = 2**np.arange( -5, 10, dtype=float)          # Candidates of C\n",
    "svrepsilons = 2**np.arange( -10, 0, dtype=float)    # Candidates of epsilon\n",
    "svrgammas = 2**np.arange( -20, 10, dtype=float)     # Candidates of gamma\n",
    "nmberoftrainingsamples = 300\n",
    "nmberoftestsamples = 100"
   ]
  },
  {
   "cell_type": "code",
   "execution_count": 3,
   "metadata": {
    "collapsed": true
   },
   "outputs": [],
   "source": [
    "# Generate samples for demonstration\n",
    "X, y = datasets.make_regression(n_samples=nmberoftrainingsamples+nmberoftestsamples, n_features=10,\n",
    "                                n_informative=10, noise=10, random_state=0)"
   ]
  },
  {
   "cell_type": "code",
   "execution_count": 4,
   "metadata": {
    "collapsed": true
   },
   "outputs": [],
   "source": [
    "# Divide samples into trainign samples and test samples\n",
    "Xtrain, Xtest, ytrain, ytest = train_test_split(X, y, test_size=nmberoftestsamples, random_state=0)"
   ]
  },
  {
   "cell_type": "code",
   "execution_count": 5,
   "metadata": {
    "collapsed": true
   },
   "outputs": [],
   "source": [
    "# Standarize X and y\n",
    "autoscaledXtrain = (Xtrain - Xtrain.mean()) / Xtrain.std(ddof=1)\n",
    "autoscaledytrain = (ytrain - ytrain.mean()) / ytrain.std(ddof=1)\n",
    "autoscaledXtest =  (Xtest - Xtrain.mean()) / Xtrain.std(ddof=1)"
   ]
  },
  {
   "cell_type": "code",
   "execution_count": 6,
   "metadata": {
    "collapsed": true
   },
   "outputs": [],
   "source": [
    "# Measure time in hyperparameter optimization\n",
    "starttime = time.time()"
   ]
  },
  {
   "cell_type": "code",
   "execution_count": 7,
   "metadata": {
    "collapsed": true
   },
   "outputs": [],
   "source": [
    "# Optimize gamma by maximizing variance in Gram matrix\n",
    "numpyautoscaledXtrain = np.array(autoscaledXtrain)\n",
    "varianceofgrammatrix = list()\n",
    "for svrgamma in svrgammas:\n",
    "    grammatrix = np.exp(-svrgamma*((numpyautoscaledXtrain[:, np.newaxis] - numpyautoscaledXtrain)**2).sum(axis=2))\n",
    "    varianceofgrammatrix.append(grammatrix.var(ddof=1))\n",
    "optimalsvrgamma = svrgammas[ np.where( varianceofgrammatrix == np.max(varianceofgrammatrix) )[0][0] ]"
   ]
  },
  {
   "cell_type": "code",
   "execution_count": 8,
   "metadata": {
    "collapsed": true
   },
   "outputs": [],
   "source": [
    "# Optimize C and epsilon with midknn\n",
    "midknn_index = midknn.midknn( autoscaledXtrain, k) # generate indexes of midknn\n",
    "Xmidknn = ( autoscaledXtrain[ midknn_index[:,0] , : ] + autoscaledXtrain[ midknn_index[:,1] , : ] ) / 2\n",
    "ymidknn = ( ytrain[ midknn_index[:,0] ] + ytrain[ midknn_index[:,1] ] ) / 2\n",
    "r2midknns = np.empty( (len(svrcs), len(svrepsilons)) )\n",
    "rmsemidknns = np.empty( (len(svrcs), len(svrepsilons)) )\n",
    "for svrcnumber, svrc in enumerate(svrcs):\n",
    "    for svrepsilonnumber, svrepsilon in enumerate(svrepsilons):\n",
    "        regressionmodel = svm.SVR(kernel='rbf', C=svrc, epsilon=svrepsilon, gamma=optimalsvrgamma)\n",
    "        regressionmodel.fit(autoscaledXtrain, autoscaledytrain)\n",
    "        estimatedymidknn = np.ndarray.flatten( regressionmodel.predict(Xmidknn) )\n",
    "        estimatedymidknn = estimatedymidknn*ytrain.std(ddof=1) + ytrain.mean()\n",
    "        r2midknns[svrcnumber,svrepsilonnumber] = float( 1 - sum( (ymidknn-estimatedymidknn)**2 ) / sum((ymidknn-ymidknn.mean())**2) )\n",
    "        rmsemidknns[svrcnumber,svrepsilonnumber] = float( ( 2*(len(ytrain)+1) * sum( (ymidknn-estimatedymidknn)**2 ) / len(ytrain) / (len(ymidknn)-1)  )**0.5 )\n",
    "\n",
    "optimalsvrcepsilonindex = np.where( r2midknns == r2midknns.max() )\n",
    "optimalsvrc = svrcs[ optimalsvrcepsilonindex[0][0]]\n",
    "optimalsvrepsilon = svrepsilons[ optimalsvrcepsilonindex[1][0]]"
   ]
  },
  {
   "cell_type": "code",
   "execution_count": 9,
   "metadata": {
    "collapsed": true
   },
   "outputs": [],
   "source": [
    "# Check time in hyperparameter optimization\n",
    "elapsedtime = time.time() - starttime"
   ]
  },
  {
   "cell_type": "code",
   "execution_count": 10,
   "metadata": {},
   "outputs": [
    {
     "name": "stdout",
     "output_type": "stream",
     "text": [
      "C: 16.0, Epsion: 0.0009765625, Gamma: 0.0625\n"
     ]
    }
   ],
   "source": [
    "# Check optimized hyperparameters\n",
    "print (\"C: {0}, Epsion: {1}, Gamma: {2}\".format(optimalsvrc, optimalsvrepsilon, optimalsvrgamma))"
   ]
  },
  {
   "cell_type": "code",
   "execution_count": 11,
   "metadata": {},
   "outputs": [
    {
     "data": {
      "text/plain": [
       "SVR(C=16.0, cache_size=200, coef0=0.0, degree=3, epsilon=0.0009765625,\n",
       "  gamma=0.0625, kernel='rbf', max_iter=-1, shrinking=True, tol=0.001,\n",
       "  verbose=False)"
      ]
     },
     "execution_count": 11,
     "metadata": {},
     "output_type": "execute_result"
    }
   ],
   "source": [
    "# Construct SVR model\n",
    "regressionmodel = svm.SVR(kernel='rbf', C=optimalsvrc, epsilon=optimalsvrepsilon, gamma=optimalsvrgamma)\n",
    "regressionmodel.fit(autoscaledXtrain, autoscaledytrain)"
   ]
  },
  {
   "cell_type": "code",
   "execution_count": 12,
   "metadata": {},
   "outputs": [
    {
     "name": "stdout",
     "output_type": "stream",
     "text": [
      "r2: 0.9999956793943044\n",
      "RMSE: 0.3902385786634951\n",
      "MAE: 0.2304060981383194\n"
     ]
    },
    {
     "data": {
      "image/png": "[encoded data removed]",
      "text/plain": [
       "<matplotlib.figure.Figure at 0x2ea66d41208>"
      ]
     },
     "metadata": {},
     "output_type": "display_data"
    }
   ],
   "source": [
    "# Calculate y of trainig dataset\n",
    "calculatedytrain = np.ndarray.flatten( regressionmodel.predict(autoscaledXtrain) )\n",
    "calculatedytrain = calculatedytrain*ytrain.std(ddof=1) + ytrain.mean()\n",
    "# r2, RMSE, MAE\n",
    "print( \"r2: {0}\".format(float( 1 - sum( (ytrain-calculatedytrain )**2 ) / sum((ytrain-ytrain.mean())**2) )) )\n",
    "print( \"RMSE: {0}\".format(float( ( sum( (ytrain-calculatedytrain)**2 )/ len(ytrain))**0.5 )) )\n",
    "print( \"MAE: {0}\".format(float( sum( abs(ytrain-calculatedytrain)) / len(ytrain) )) )\n",
    "# yyplot\n",
    "plt.figure(figsize=figure.figaspect(1))\n",
    "plt.scatter( ytrain, calculatedytrain)\n",
    "YMax = np.max( np.array([np.array(ytrain), calculatedytrain]))\n",
    "YMin = np.min( np.array([np.array(ytrain), calculatedytrain]))\n",
    "plt.plot([YMin-0.05*(YMax-YMin),YMax+0.05*(YMax-YMin)], [YMin-0.05*(YMax-YMin),YMax+0.05*(YMax-YMin)], 'k-')\n",
    "plt.ylim(YMin-0.05*(YMax-YMin),YMax+0.05*(YMax-YMin))\n",
    "plt.xlim(YMin-0.05*(YMax-YMin),YMax+0.05*(YMax-YMin))\n",
    "plt.xlabel(\"Actual Y\")\n",
    "plt.ylabel(\"Calculated Y\")\n",
    "plt.show()"
   ]
  },
  {
   "cell_type": "code",
   "execution_count": 13,
   "metadata": {},
   "outputs": [
    {
     "name": "stdout",
     "output_type": "stream",
     "text": [
      "r2midknn: 0.9959294627373401\n",
      "RMSEmidknn: 14.069998220860205\n",
      "MAEmidknn: 10.35265795740488\n"
     ]
    },
    {
     "data": {
      "image/png": "[encoded data removed]",
      "text/plain": [
       "<matplotlib.figure.Figure at 0x2ea66f15cf8>"
      ]
     },
     "metadata": {},
     "output_type": "display_data"
    }
   ],
   "source": [
    "# Estimate y of midknn\n",
    "estimatedymidknn = np.ndarray.flatten( regressionmodel.predict(Xmidknn) )\n",
    "estimatedymidknn = estimatedymidknn*ytrain.std(ddof=1) + ytrain.mean()\n",
    "# r2cv, RMSEcv, MAEcv\n",
    "print( \"r2midknn: {0}\".format(float( 1 - sum( (ymidknn-estimatedymidknn )**2 ) / sum((ymidknn-ymidknn.mean())**2) )) )\n",
    "print( \"RMSEmidknn: {0}\".format(float( ( 2*(len(ytrain)+1) * sum( (ymidknn-estimatedymidknn)**2 ) / len(ytrain) / (len(ymidknn)-1)  )**0.5 ) ))\n",
    "print( \"MAEmidknn: {0}\".format(float( sum( abs(ymidknn-estimatedymidknn)) / len(ymidknn) * (2*(len(ytrain)+1)/len(ytrain)*len(ymidknn)/(len(ymidknn)-1))**0.5)) )\n",
    "# yyplot\n",
    "plt.figure(figsize=figure.figaspect(1))\n",
    "plt.scatter( ymidknn, estimatedymidknn)\n",
    "YMax = np.max( np.array([np.array(ymidknn), estimatedymidknn]))\n",
    "YMin = np.min( np.array([np.array(ymidknn), estimatedymidknn]))\n",
    "plt.plot([YMin-0.05*(YMax-YMin),YMax+0.05*(YMax-YMin)], [YMin-0.05*(YMax-YMin),YMax+0.05*(YMax-YMin)], 'k-')\n",
    "plt.ylim(YMin-0.05*(YMax-YMin),YMax+0.05*(YMax-YMin))\n",
    "plt.xlim(YMin-0.05*(YMax-YMin),YMax+0.05*(YMax-YMin))\n",
    "plt.xlabel(\"Actual Y\")\n",
    "plt.ylabel(\"Estimated Y of midknn\")\n",
    "plt.show()"
   ]
  },
  {
   "cell_type": "code",
   "execution_count": 14,
   "metadata": {},
   "outputs": [
    {
     "name": "stdout",
     "output_type": "stream",
     "text": [
      "r2p: 0.9606145311676186\n",
      "RMSEp: 38.499826009973795\n",
      "MAEp: 25.302075089848536\n"
     ]
    },
    {
     "data": {
      "image/png": "[encoded data removed]",
      "text/plain": [
       "<matplotlib.figure.Figure at 0x2ea66f15b70>"
      ]
     },
     "metadata": {},
     "output_type": "display_data"
    }
   ],
   "source": [
    "# Estimate y of test dataset\n",
    "predictedytest = np.ndarray.flatten( regressionmodel.predict(autoscaledXtest) )\n",
    "predictedytest = predictedytest*ytrain.std(ddof=1) + ytrain.mean()\n",
    "# r2p, RMSEp, MAEp\n",
    "print( \"r2p: {0}\".format(float( 1 - sum( (ytest-predictedytest )**2 ) / sum((ytest-ytest.mean())**2) )) )\n",
    "print( \"RMSEp: {0}\".format(float( ( sum( (ytest-predictedytest)**2 )/ len(ytest))**0.5 )) )\n",
    "print( \"MAEp: {0}\".format(float( sum( abs(ytest-predictedytest)) / len(ytest) )) )\n",
    "# yyplot\n",
    "plt.figure(figsize=figure.figaspect(1))\n",
    "plt.scatter( ytest, predictedytest)\n",
    "YMax = np.max( np.array([np.array(ytest), predictedytest]))\n",
    "YMin = np.min( np.array([np.array(ytest), predictedytest]))\n",
    "plt.plot([YMin-0.05*(YMax-YMin),YMax+0.05*(YMax-YMin)], [YMin-0.05*(YMax-YMin),YMax+0.05*(YMax-YMin)], 'k-')\n",
    "plt.ylim(YMin-0.05*(YMax-YMin),YMax+0.05*(YMax-YMin))\n",
    "plt.xlim(YMin-0.05*(YMax-YMin),YMax+0.05*(YMax-YMin))\n",
    "plt.xlabel(\"Actual Y\")\n",
    "plt.ylabel(\"Estimated Y\")\n",
    "plt.show()"
   ]
  }
 ],
 "metadata": {
  "kernelspec": {
   "display_name": "Python 3",
   "language": "python",
   "name": "python3"
  },
  "language_info": {
   "codemirror_mode": {
    "name": "ipython",
    "version": 3
   },
   "file_extension": ".py",
   "mimetype": "text/x-python",
   "name": "python",
   "nbconvert_exporter": "python",
   "pygments_lexer": "ipython3",
   "version": "3.6.3"
  }
 },
 "nbformat": 4,
 "nbformat_minor": 2
}
